{
 "cells": [
  {
   "cell_type": "code",
   "execution_count": 11,
   "id": "6ea40591",
   "metadata": {},
   "outputs": [],
   "source": [
    "import numpy as np\n",
    "\n",
    "def coveredSensor(currentLocation, loc):\n",
    "## look at currentLocation, and check indices 2.5 to left/right, 2.5 up/down\n",
    "## check if within this 5x5 square, there are any indices in loc\n",
    "## return which indices in loc are in this square\n",
    "\n",
    "\n",
    "    ## currentLocation index => [x,y]\n",
    "    ## move currentLocation to top left corner of 5x5 grid if allowed\n",
    "    \n",
    "    if (currentLocation[0] - 2.5 > 0): \n",
    "        moveLeft = currentLocation[0] - 2.5;\n",
    "    else:\n",
    "        moveLeft = currentLocation[0];\n",
    "\n",
    "    if (currentLocation[1] - 2.5 > 0):\n",
    "        moveLeft = currentLocation[1] - 2.5;\n",
    "    else:\n",
    "        moveLeft = currentLocation[1];\n",
    "\n",
    "    indicesCovered = [];\n",
    "    #check all units of 5x5 square\n",
    "    for i in range (moveLeft,moveLeft+5):\n",
    "        for j in range (moveUp,moveUp-5):\n",
    "            #compare with every index value in loc\n",
    "            for k in range (0,len(loc)):\n",
    "                if (loc[k] == (i,j)):\n",
    "                    indicesCovered.append(k)\n",
    "         \n",
    "    #return all index values in loc\n",
    "    return indicesCovered\n",
    "                    \n",
    "        \n",
    "\n"
   ]
  },
  {
   "cell_type": "code",
   "execution_count": null,
   "id": "e7e6586f",
   "metadata": {},
   "outputs": [],
   "source": []
  },
  {
   "cell_type": "code",
   "execution_count": null,
   "id": "85b2cba6",
   "metadata": {},
   "outputs": [],
   "source": []
  }
 ],
 "metadata": {
  "kernelspec": {
   "display_name": "Python 3 (ipykernel)",
   "language": "python",
   "name": "python3"
  },
  "language_info": {
   "codemirror_mode": {
    "name": "ipython",
    "version": 3
   },
   "file_extension": ".py",
   "mimetype": "text/x-python",
   "name": "python",
   "nbconvert_exporter": "python",
   "pygments_lexer": "ipython3",
   "version": "3.9.7"
  }
 },
 "nbformat": 4,
 "nbformat_minor": 5
}
