{
 "cells": [
  {
   "cell_type": "code",
   "execution_count": null,
   "metadata": {},
   "outputs": [],
   "source": [
    "#Function to find root of next spanning tree (of new cluster)\n",
    "def rt_next_cluster(x, y, locations):\n",
    "    #Inputs: x,y = location of a single point where the drone is\n",
    "            #sensors = and a list of m points that are in the new cluster\n",
    "    min_dist_found = float('inf');\n",
    "    min_dist_loc = [0,0]\n",
    "    current_loc = [x,y]\n",
    "    for i in range(0, len(locations)):\n",
    "        dest_x_val = locations[i][0];\n",
    "        dest_y_val = locations[i][1];\n",
    "        if (dest_x_val != x) or (dest_y_val !=y): #check you aren't attempting to move to same point\n",
    "            dest_loc = [dest_x_val, dest_y_val];\n",
    "            dist_considered = getDistance(current_loc, dest_loc)\n",
    "            if dist_considered < min_dist_found:\n",
    "                min_dist_found = dist_considered;\n",
    "                min_dist_loc = [dest_x_val, dest_y_val];\n",
    "    return min_dist_loc;\n",
    "\n",
    "################### test: ###########################\n",
    "#Within function, calculate array of m distances from drone point to each of m points, then return point with min distance\n",
    "#Output: the point with the min distance from the drone’s current location\n",
    "x = 3;\n",
    "y = 5;\n",
    "test = [[1,1],[1,3],[6,8],[9,3],[3,5],[4,6]];\n",
    "nxt_clust = rt_next_cluster(x,y,test);\n",
    "print(nxt_clust);"
   ]
  }
 ],
 "metadata": {
  "kernelspec": {
   "display_name": "Python 3",
   "language": "python",
   "name": "python3"
  },
  "language_info": {
   "codemirror_mode": {
    "name": "ipython",
    "version": 3
   },
   "file_extension": ".py",
   "mimetype": "text/x-python",
   "name": "python",
   "nbconvert_exporter": "python",
   "pygments_lexer": "ipython3",
   "version": "3.8.5"
  }
 },
 "nbformat": 4,
 "nbformat_minor": 4
}
