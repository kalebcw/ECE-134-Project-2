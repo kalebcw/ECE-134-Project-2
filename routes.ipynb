{
 "cells": [
  {
   "cell_type": "code",
   "execution_count": null,
   "metadata": {},
   "outputs": [],
   "source": [
    "def routes(m, loc):\n",
    "    # write a function that designs the paths for the m drones to minimize the tota deployment time\n",
    "    # return the deployment time\n",
    "    \n",
    "    #Create m clusters for m drones\n",
    "    (mu, clust) = KMeansClusters(m, loc);\n",
    "    \n",
    "    #Assign drones to clusters - each cluster label = that drone index\n",
    "    drones = [];\n",
    "    for i in range(0,m): # iterate through each column of the cluster matrix\n",
    "        drones.append(i);\n",
    "    #find distance traveled by each drone\n",
    "        #use getDistance to determine center of map to cluster, distances between points in clusters & travel time back to center\n",
    "    #compare total distances for each drone\n",
    "        #drone with shortest distance then goes to cluster that requires longest distance \n",
    "    #Have drones traverse through their clusters using min weight spanning tree method- essentially the same thing but happening M times on smaller scales\n",
    "\n",
    "routes(3, loc); "
   ]
  }
 ],
 "metadata": {
  "kernelspec": {
   "display_name": "Python 3",
   "language": "python",
   "name": "python3"
  },
  "language_info": {
   "codemirror_mode": {
    "name": "ipython",
    "version": 3
   },
   "file_extension": ".py",
   "mimetype": "text/x-python",
   "name": "python",
   "nbconvert_exporter": "python",
   "pygments_lexer": "ipython3",
   "version": "3.8.5"
  }
 },
 "nbformat": 4,
 "nbformat_minor": 4
}
